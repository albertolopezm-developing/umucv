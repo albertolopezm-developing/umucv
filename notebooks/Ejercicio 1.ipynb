{
 "cells": [
  {
   "cell_type": "code",
   "execution_count": 15,
   "id": "653d7371",
   "metadata": {},
   "outputs": [],
   "source": [
    "import numpy as np"
   ]
  },
  {
   "cell_type": "markdown",
   "id": "b80b009a",
   "metadata": {},
   "source": [
    "Despejamos la Z de la fórmula:"
   ]
  },
  {
   "cell_type": "code",
   "execution_count": 16,
   "id": "96f33168",
   "metadata": {},
   "outputs": [],
   "source": [
    "z=(1000*28)/800"
   ]
  },
  {
   "cell_type": "code",
   "execution_count": 17,
   "id": "d67e7a7b",
   "metadata": {},
   "outputs": [
    {
     "name": "stdout",
     "output_type": "stream",
     "text": [
      "La distancia a la que hay que poner la camara para que abarque los 28 metros es:  35.0  metros\n"
     ]
    }
   ],
   "source": [
    "print(\"La distancia a la que hay que poner la camara para que abarque los 28 metros es: \", z, \" metros\")"
   ]
  },
  {
   "cell_type": "markdown",
   "id": "967834f2",
   "metadata": {},
   "source": [
    "Ahora despejamos la u de la fórmula:"
   ]
  },
  {
   "cell_type": "code",
   "execution_count": 18,
   "id": "0a3d1ccf",
   "metadata": {},
   "outputs": [],
   "source": [
    "u=1000*0.24/35"
   ]
  },
  {
   "cell_type": "code",
   "execution_count": 19,
   "id": "4328bcbd",
   "metadata": {},
   "outputs": [
    {
     "name": "stdout",
     "output_type": "stream",
     "text": [
      "La pelota tendrá una longitud en pixels de:  6.857142857142857  pixels\n"
     ]
    }
   ],
   "source": [
    "print(\"La pelota tendrá una longitud en pixels de: \", u, \" pixels\")"
   ]
  },
  {
   "cell_type": "markdown",
   "id": "4b03628e",
   "metadata": {},
   "source": [
    "Volvemos a despejar de la fórmula la Z"
   ]
  },
  {
   "cell_type": "code",
   "execution_count": 20,
   "id": "5b7495ff",
   "metadata": {},
   "outputs": [],
   "source": [
    "z=(1000*0.24)/15"
   ]
  },
  {
   "cell_type": "code",
   "execution_count": 21,
   "id": "e281c2b3",
   "metadata": {},
   "outputs": [
    {
     "name": "stdout",
     "output_type": "stream",
     "text": [
      "La distancia a la que esta la pelota es:  16.0  metros\n"
     ]
    }
   ],
   "source": [
    "print(\"La distancia a la que esta la pelota es: \", z, \" metros\")"
   ]
  },
  {
   "cell_type": "code",
   "execution_count": null,
   "id": "9a9449f6",
   "metadata": {},
   "outputs": [],
   "source": []
  }
 ],
 "metadata": {
  "kernelspec": {
   "display_name": "Python 3 (ipykernel)",
   "language": "python",
   "name": "python3"
  },
  "language_info": {
   "codemirror_mode": {
    "name": "ipython",
    "version": 3
   },
   "file_extension": ".py",
   "mimetype": "text/x-python",
   "name": "python",
   "nbconvert_exporter": "python",
   "pygments_lexer": "ipython3",
   "version": "3.9.7"
  }
 },
 "nbformat": 4,
 "nbformat_minor": 5
}
